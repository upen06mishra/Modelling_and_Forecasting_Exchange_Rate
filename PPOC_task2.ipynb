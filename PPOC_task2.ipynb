{
  "nbformat": 4,
  "nbformat_minor": 0,
  "metadata": {
    "colab": {
      "name": "PPOC_task2.ipynb",
      "provenance": [],
      "collapsed_sections": []
    },
    "kernelspec": {
      "name": "python3",
      "display_name": "Python 3"
    },
    "language_info": {
      "name": "python"
    }
  },
  "cells": [
    {
      "cell_type": "markdown",
      "source": [
        "# Modelling and Forecasting Exchange Rate Task 2\n",
        " Group Moneypredictors\n",
        " \n",
        " Country South Korea"
      ],
      "metadata": {
        "id": "MddGtQWiFDOj"
      }
    },
    {
      "cell_type": "markdown",
      "source": [
        "# Data Loading and Visualization"
      ],
      "metadata": {
        "id": "wgqqSZJsLECV"
      }
    },
    {
      "cell_type": "markdown",
      "source": [
        "Data set link: https://drive.google.com/file/d/17rDi8HzcaV1hOElrwiD3CpUSc7TEKpth/view?usp=sharing"
      ],
      "metadata": {
        "id": "zaAsMompBHPb"
      }
    },
    {
      "cell_type": "code",
      "execution_count": null,
      "metadata": {
        "id": "2ncCIoyXYWp4"
      },
      "outputs": [],
      "source": [
        "import matplotlib.pyplot as plt             ###Installing the required libraries\n",
        "import seaborn as sns\n",
        "import numpy as np\n",
        "import pandas as pd"
      ]
    },
    {
      "cell_type": "code",
      "source": [
        "data = pd.read_csv('/content/Data_ER.csv')  ###Reading the dataset\n",
        "print(data.shape)\n",
        "data"
      ],
      "metadata": {
        "colab": {
          "base_uri": "https://localhost:8080/",
          "height": 441
        },
        "id": "F2N-BxJbYi3x",
        "outputId": "3681b9db-da67-4351-d395-06c229f1733b"
      },
      "execution_count": null,
      "outputs": [
        {
          "output_type": "stream",
          "name": "stdout",
          "text": [
            "(168, 6)\n"
          ]
        },
        {
          "output_type": "execute_result",
          "data": {
            "text/plain": [
              "      Years  SKW_USD_FX   INF_Diff     M_Diff  GDP_diff   CA_diff\n",
              "0    1980.1    571.0643  12.603550 -11.906443 -4.086520    1366.8\n",
              "1    1980.2    594.0667  12.260130 -12.076011 -3.142056    -601.7\n",
              "2    1980.3    613.3334  15.938360 -12.422379  2.312286   -6018.2\n",
              "3    1980.4    651.3200  19.347220 -12.664726 -0.547334   -3958.5\n",
              "4    1981.1    667.1733  13.821340 -12.844519  0.995386   -2618.7\n",
              "..      ...         ...        ...        ...       ...       ...\n",
              "163  2020.4   1118.6680  -0.785339  -8.545700  1.373803  223138.2\n",
              "164  2021.1   1113.7670  -0.476082 -11.161400  1.639346  217113.8\n",
              "165  2021.2   1121.4050  -2.361083 -12.291200 -5.972542  229148.8\n",
              "166  2021.3   1159.2770  -2.800425 -13.412200 -0.908437  245831.9\n",
              "167  2021.4   1183.3750  -3.142865 -14.268900 -1.367872  242562.2\n",
              "\n",
              "[168 rows x 6 columns]"
            ],
            "text/html": [
              "\n",
              "  <div id=\"df-8f5e42a9-66a7-431c-8e4c-ee6550c68f0f\">\n",
              "    <div class=\"colab-df-container\">\n",
              "      <div>\n",
              "<style scoped>\n",
              "    .dataframe tbody tr th:only-of-type {\n",
              "        vertical-align: middle;\n",
              "    }\n",
              "\n",
              "    .dataframe tbody tr th {\n",
              "        vertical-align: top;\n",
              "    }\n",
              "\n",
              "    .dataframe thead th {\n",
              "        text-align: right;\n",
              "    }\n",
              "</style>\n",
              "<table border=\"1\" class=\"dataframe\">\n",
              "  <thead>\n",
              "    <tr style=\"text-align: right;\">\n",
              "      <th></th>\n",
              "      <th>Years</th>\n",
              "      <th>SKW_USD_FX</th>\n",
              "      <th>INF_Diff</th>\n",
              "      <th>M_Diff</th>\n",
              "      <th>GDP_diff</th>\n",
              "      <th>CA_diff</th>\n",
              "    </tr>\n",
              "  </thead>\n",
              "  <tbody>\n",
              "    <tr>\n",
              "      <th>0</th>\n",
              "      <td>1980.1</td>\n",
              "      <td>571.0643</td>\n",
              "      <td>12.603550</td>\n",
              "      <td>-11.906443</td>\n",
              "      <td>-4.086520</td>\n",
              "      <td>1366.8</td>\n",
              "    </tr>\n",
              "    <tr>\n",
              "      <th>1</th>\n",
              "      <td>1980.2</td>\n",
              "      <td>594.0667</td>\n",
              "      <td>12.260130</td>\n",
              "      <td>-12.076011</td>\n",
              "      <td>-3.142056</td>\n",
              "      <td>-601.7</td>\n",
              "    </tr>\n",
              "    <tr>\n",
              "      <th>2</th>\n",
              "      <td>1980.3</td>\n",
              "      <td>613.3334</td>\n",
              "      <td>15.938360</td>\n",
              "      <td>-12.422379</td>\n",
              "      <td>2.312286</td>\n",
              "      <td>-6018.2</td>\n",
              "    </tr>\n",
              "    <tr>\n",
              "      <th>3</th>\n",
              "      <td>1980.4</td>\n",
              "      <td>651.3200</td>\n",
              "      <td>19.347220</td>\n",
              "      <td>-12.664726</td>\n",
              "      <td>-0.547334</td>\n",
              "      <td>-3958.5</td>\n",
              "    </tr>\n",
              "    <tr>\n",
              "      <th>4</th>\n",
              "      <td>1981.1</td>\n",
              "      <td>667.1733</td>\n",
              "      <td>13.821340</td>\n",
              "      <td>-12.844519</td>\n",
              "      <td>0.995386</td>\n",
              "      <td>-2618.7</td>\n",
              "    </tr>\n",
              "    <tr>\n",
              "      <th>...</th>\n",
              "      <td>...</td>\n",
              "      <td>...</td>\n",
              "      <td>...</td>\n",
              "      <td>...</td>\n",
              "      <td>...</td>\n",
              "      <td>...</td>\n",
              "    </tr>\n",
              "    <tr>\n",
              "      <th>163</th>\n",
              "      <td>2020.4</td>\n",
              "      <td>1118.6680</td>\n",
              "      <td>-0.785339</td>\n",
              "      <td>-8.545700</td>\n",
              "      <td>1.373803</td>\n",
              "      <td>223138.2</td>\n",
              "    </tr>\n",
              "    <tr>\n",
              "      <th>164</th>\n",
              "      <td>2021.1</td>\n",
              "      <td>1113.7670</td>\n",
              "      <td>-0.476082</td>\n",
              "      <td>-11.161400</td>\n",
              "      <td>1.639346</td>\n",
              "      <td>217113.8</td>\n",
              "    </tr>\n",
              "    <tr>\n",
              "      <th>165</th>\n",
              "      <td>2021.2</td>\n",
              "      <td>1121.4050</td>\n",
              "      <td>-2.361083</td>\n",
              "      <td>-12.291200</td>\n",
              "      <td>-5.972542</td>\n",
              "      <td>229148.8</td>\n",
              "    </tr>\n",
              "    <tr>\n",
              "      <th>166</th>\n",
              "      <td>2021.3</td>\n",
              "      <td>1159.2770</td>\n",
              "      <td>-2.800425</td>\n",
              "      <td>-13.412200</td>\n",
              "      <td>-0.908437</td>\n",
              "      <td>245831.9</td>\n",
              "    </tr>\n",
              "    <tr>\n",
              "      <th>167</th>\n",
              "      <td>2021.4</td>\n",
              "      <td>1183.3750</td>\n",
              "      <td>-3.142865</td>\n",
              "      <td>-14.268900</td>\n",
              "      <td>-1.367872</td>\n",
              "      <td>242562.2</td>\n",
              "    </tr>\n",
              "  </tbody>\n",
              "</table>\n",
              "<p>168 rows × 6 columns</p>\n",
              "</div>\n",
              "      <button class=\"colab-df-convert\" onclick=\"convertToInteractive('df-8f5e42a9-66a7-431c-8e4c-ee6550c68f0f')\"\n",
              "              title=\"Convert this dataframe to an interactive table.\"\n",
              "              style=\"display:none;\">\n",
              "        \n",
              "  <svg xmlns=\"http://www.w3.org/2000/svg\" height=\"24px\"viewBox=\"0 0 24 24\"\n",
              "       width=\"24px\">\n",
              "    <path d=\"M0 0h24v24H0V0z\" fill=\"none\"/>\n",
              "    <path d=\"M18.56 5.44l.94 2.06.94-2.06 2.06-.94-2.06-.94-.94-2.06-.94 2.06-2.06.94zm-11 1L8.5 8.5l.94-2.06 2.06-.94-2.06-.94L8.5 2.5l-.94 2.06-2.06.94zm10 10l.94 2.06.94-2.06 2.06-.94-2.06-.94-.94-2.06-.94 2.06-2.06.94z\"/><path d=\"M17.41 7.96l-1.37-1.37c-.4-.4-.92-.59-1.43-.59-.52 0-1.04.2-1.43.59L10.3 9.45l-7.72 7.72c-.78.78-.78 2.05 0 2.83L4 21.41c.39.39.9.59 1.41.59.51 0 1.02-.2 1.41-.59l7.78-7.78 2.81-2.81c.8-.78.8-2.07 0-2.86zM5.41 20L4 18.59l7.72-7.72 1.47 1.35L5.41 20z\"/>\n",
              "  </svg>\n",
              "      </button>\n",
              "      \n",
              "  <style>\n",
              "    .colab-df-container {\n",
              "      display:flex;\n",
              "      flex-wrap:wrap;\n",
              "      gap: 12px;\n",
              "    }\n",
              "\n",
              "    .colab-df-convert {\n",
              "      background-color: #E8F0FE;\n",
              "      border: none;\n",
              "      border-radius: 50%;\n",
              "      cursor: pointer;\n",
              "      display: none;\n",
              "      fill: #1967D2;\n",
              "      height: 32px;\n",
              "      padding: 0 0 0 0;\n",
              "      width: 32px;\n",
              "    }\n",
              "\n",
              "    .colab-df-convert:hover {\n",
              "      background-color: #E2EBFA;\n",
              "      box-shadow: 0px 1px 2px rgba(60, 64, 67, 0.3), 0px 1px 3px 1px rgba(60, 64, 67, 0.15);\n",
              "      fill: #174EA6;\n",
              "    }\n",
              "\n",
              "    [theme=dark] .colab-df-convert {\n",
              "      background-color: #3B4455;\n",
              "      fill: #D2E3FC;\n",
              "    }\n",
              "\n",
              "    [theme=dark] .colab-df-convert:hover {\n",
              "      background-color: #434B5C;\n",
              "      box-shadow: 0px 1px 3px 1px rgba(0, 0, 0, 0.15);\n",
              "      filter: drop-shadow(0px 1px 2px rgba(0, 0, 0, 0.3));\n",
              "      fill: #FFFFFF;\n",
              "    }\n",
              "  </style>\n",
              "\n",
              "      <script>\n",
              "        const buttonEl =\n",
              "          document.querySelector('#df-8f5e42a9-66a7-431c-8e4c-ee6550c68f0f button.colab-df-convert');\n",
              "        buttonEl.style.display =\n",
              "          google.colab.kernel.accessAllowed ? 'block' : 'none';\n",
              "\n",
              "        async function convertToInteractive(key) {\n",
              "          const element = document.querySelector('#df-8f5e42a9-66a7-431c-8e4c-ee6550c68f0f');\n",
              "          const dataTable =\n",
              "            await google.colab.kernel.invokeFunction('convertToInteractive',\n",
              "                                                     [key], {});\n",
              "          if (!dataTable) return;\n",
              "\n",
              "          const docLinkHtml = 'Like what you see? Visit the ' +\n",
              "            '<a target=\"_blank\" href=https://colab.research.google.com/notebooks/data_table.ipynb>data table notebook</a>'\n",
              "            + ' to learn more about interactive tables.';\n",
              "          element.innerHTML = '';\n",
              "          dataTable['output_type'] = 'display_data';\n",
              "          await google.colab.output.renderOutput(dataTable, element);\n",
              "          const docLink = document.createElement('div');\n",
              "          docLink.innerHTML = docLinkHtml;\n",
              "          element.appendChild(docLink);\n",
              "        }\n",
              "      </script>\n",
              "    </div>\n",
              "  </div>\n",
              "  "
            ]
          },
          "metadata": {},
          "execution_count": 2
        }
      ]
    },
    {
      "cell_type": "markdown",
      "source": [
        "Our dependent variable 'y' is SKW_USD_FX\n",
        "\n",
        "While independent variables 'x' are INF_Diff, M_Diff, GDP_diff and CA_diff"
      ],
      "metadata": {
        "id": "0JITkZKLMpv8"
      }
    },
    {
      "cell_type": "code",
      "source": [
        "data[['SKW_USD_FX', 'INF_Diff','M_Diff', 'GDP_diff', 'CA_diff']].describe(include='all')"
      ],
      "metadata": {
        "colab": {
          "base_uri": "https://localhost:8080/",
          "height": 300
        },
        "id": "6ZNJIrzeAogd",
        "outputId": "67a8f339-4c1c-43a4-f323-3ec381241330"
      },
      "execution_count": null,
      "outputs": [
        {
          "output_type": "execute_result",
          "data": {
            "text/plain": [
              "        SKW_USD_FX    INF_Diff      M_Diff    GDP_diff        CA_diff\n",
              "count   168.000000  168.000000  168.000000  168.000000     168.000000\n",
              "mean    984.791723    1.382012   -9.925313    3.345091   84910.102976\n",
              "std     209.216917    3.337251    7.834529    4.058628   65669.782109\n",
              "min     571.064300   -3.142865  -21.135181  -11.359602  -12721.500000\n",
              "25%     794.531350   -0.451415  -16.107640    0.991075   24660.125000\n",
              "50%    1027.792500    0.555895  -10.151600    2.912113   96859.500000\n",
              "75%    1157.422000    1.922643   -4.263693    5.719765  125248.025000\n",
              "max    1604.572000   19.347220   10.948800   12.669971  245831.900000"
            ],
            "text/html": [
              "\n",
              "  <div id=\"df-4b86a71f-07ab-4255-b4e3-b6c235e4fd75\">\n",
              "    <div class=\"colab-df-container\">\n",
              "      <div>\n",
              "<style scoped>\n",
              "    .dataframe tbody tr th:only-of-type {\n",
              "        vertical-align: middle;\n",
              "    }\n",
              "\n",
              "    .dataframe tbody tr th {\n",
              "        vertical-align: top;\n",
              "    }\n",
              "\n",
              "    .dataframe thead th {\n",
              "        text-align: right;\n",
              "    }\n",
              "</style>\n",
              "<table border=\"1\" class=\"dataframe\">\n",
              "  <thead>\n",
              "    <tr style=\"text-align: right;\">\n",
              "      <th></th>\n",
              "      <th>SKW_USD_FX</th>\n",
              "      <th>INF_Diff</th>\n",
              "      <th>M_Diff</th>\n",
              "      <th>GDP_diff</th>\n",
              "      <th>CA_diff</th>\n",
              "    </tr>\n",
              "  </thead>\n",
              "  <tbody>\n",
              "    <tr>\n",
              "      <th>count</th>\n",
              "      <td>168.000000</td>\n",
              "      <td>168.000000</td>\n",
              "      <td>168.000000</td>\n",
              "      <td>168.000000</td>\n",
              "      <td>168.000000</td>\n",
              "    </tr>\n",
              "    <tr>\n",
              "      <th>mean</th>\n",
              "      <td>984.791723</td>\n",
              "      <td>1.382012</td>\n",
              "      <td>-9.925313</td>\n",
              "      <td>3.345091</td>\n",
              "      <td>84910.102976</td>\n",
              "    </tr>\n",
              "    <tr>\n",
              "      <th>std</th>\n",
              "      <td>209.216917</td>\n",
              "      <td>3.337251</td>\n",
              "      <td>7.834529</td>\n",
              "      <td>4.058628</td>\n",
              "      <td>65669.782109</td>\n",
              "    </tr>\n",
              "    <tr>\n",
              "      <th>min</th>\n",
              "      <td>571.064300</td>\n",
              "      <td>-3.142865</td>\n",
              "      <td>-21.135181</td>\n",
              "      <td>-11.359602</td>\n",
              "      <td>-12721.500000</td>\n",
              "    </tr>\n",
              "    <tr>\n",
              "      <th>25%</th>\n",
              "      <td>794.531350</td>\n",
              "      <td>-0.451415</td>\n",
              "      <td>-16.107640</td>\n",
              "      <td>0.991075</td>\n",
              "      <td>24660.125000</td>\n",
              "    </tr>\n",
              "    <tr>\n",
              "      <th>50%</th>\n",
              "      <td>1027.792500</td>\n",
              "      <td>0.555895</td>\n",
              "      <td>-10.151600</td>\n",
              "      <td>2.912113</td>\n",
              "      <td>96859.500000</td>\n",
              "    </tr>\n",
              "    <tr>\n",
              "      <th>75%</th>\n",
              "      <td>1157.422000</td>\n",
              "      <td>1.922643</td>\n",
              "      <td>-4.263693</td>\n",
              "      <td>5.719765</td>\n",
              "      <td>125248.025000</td>\n",
              "    </tr>\n",
              "    <tr>\n",
              "      <th>max</th>\n",
              "      <td>1604.572000</td>\n",
              "      <td>19.347220</td>\n",
              "      <td>10.948800</td>\n",
              "      <td>12.669971</td>\n",
              "      <td>245831.900000</td>\n",
              "    </tr>\n",
              "  </tbody>\n",
              "</table>\n",
              "</div>\n",
              "      <button class=\"colab-df-convert\" onclick=\"convertToInteractive('df-4b86a71f-07ab-4255-b4e3-b6c235e4fd75')\"\n",
              "              title=\"Convert this dataframe to an interactive table.\"\n",
              "              style=\"display:none;\">\n",
              "        \n",
              "  <svg xmlns=\"http://www.w3.org/2000/svg\" height=\"24px\"viewBox=\"0 0 24 24\"\n",
              "       width=\"24px\">\n",
              "    <path d=\"M0 0h24v24H0V0z\" fill=\"none\"/>\n",
              "    <path d=\"M18.56 5.44l.94 2.06.94-2.06 2.06-.94-2.06-.94-.94-2.06-.94 2.06-2.06.94zm-11 1L8.5 8.5l.94-2.06 2.06-.94-2.06-.94L8.5 2.5l-.94 2.06-2.06.94zm10 10l.94 2.06.94-2.06 2.06-.94-2.06-.94-.94-2.06-.94 2.06-2.06.94z\"/><path d=\"M17.41 7.96l-1.37-1.37c-.4-.4-.92-.59-1.43-.59-.52 0-1.04.2-1.43.59L10.3 9.45l-7.72 7.72c-.78.78-.78 2.05 0 2.83L4 21.41c.39.39.9.59 1.41.59.51 0 1.02-.2 1.41-.59l7.78-7.78 2.81-2.81c.8-.78.8-2.07 0-2.86zM5.41 20L4 18.59l7.72-7.72 1.47 1.35L5.41 20z\"/>\n",
              "  </svg>\n",
              "      </button>\n",
              "      \n",
              "  <style>\n",
              "    .colab-df-container {\n",
              "      display:flex;\n",
              "      flex-wrap:wrap;\n",
              "      gap: 12px;\n",
              "    }\n",
              "\n",
              "    .colab-df-convert {\n",
              "      background-color: #E8F0FE;\n",
              "      border: none;\n",
              "      border-radius: 50%;\n",
              "      cursor: pointer;\n",
              "      display: none;\n",
              "      fill: #1967D2;\n",
              "      height: 32px;\n",
              "      padding: 0 0 0 0;\n",
              "      width: 32px;\n",
              "    }\n",
              "\n",
              "    .colab-df-convert:hover {\n",
              "      background-color: #E2EBFA;\n",
              "      box-shadow: 0px 1px 2px rgba(60, 64, 67, 0.3), 0px 1px 3px 1px rgba(60, 64, 67, 0.15);\n",
              "      fill: #174EA6;\n",
              "    }\n",
              "\n",
              "    [theme=dark] .colab-df-convert {\n",
              "      background-color: #3B4455;\n",
              "      fill: #D2E3FC;\n",
              "    }\n",
              "\n",
              "    [theme=dark] .colab-df-convert:hover {\n",
              "      background-color: #434B5C;\n",
              "      box-shadow: 0px 1px 3px 1px rgba(0, 0, 0, 0.15);\n",
              "      filter: drop-shadow(0px 1px 2px rgba(0, 0, 0, 0.3));\n",
              "      fill: #FFFFFF;\n",
              "    }\n",
              "  </style>\n",
              "\n",
              "      <script>\n",
              "        const buttonEl =\n",
              "          document.querySelector('#df-4b86a71f-07ab-4255-b4e3-b6c235e4fd75 button.colab-df-convert');\n",
              "        buttonEl.style.display =\n",
              "          google.colab.kernel.accessAllowed ? 'block' : 'none';\n",
              "\n",
              "        async function convertToInteractive(key) {\n",
              "          const element = document.querySelector('#df-4b86a71f-07ab-4255-b4e3-b6c235e4fd75');\n",
              "          const dataTable =\n",
              "            await google.colab.kernel.invokeFunction('convertToInteractive',\n",
              "                                                     [key], {});\n",
              "          if (!dataTable) return;\n",
              "\n",
              "          const docLinkHtml = 'Like what you see? Visit the ' +\n",
              "            '<a target=\"_blank\" href=https://colab.research.google.com/notebooks/data_table.ipynb>data table notebook</a>'\n",
              "            + ' to learn more about interactive tables.';\n",
              "          element.innerHTML = '';\n",
              "          dataTable['output_type'] = 'display_data';\n",
              "          await google.colab.output.renderOutput(dataTable, element);\n",
              "          const docLink = document.createElement('div');\n",
              "          docLink.innerHTML = docLinkHtml;\n",
              "          element.appendChild(docLink);\n",
              "        }\n",
              "      </script>\n",
              "    </div>\n",
              "  </div>\n",
              "  "
            ]
          },
          "metadata": {},
          "execution_count": 3
        }
      ]
    },
    {
      "cell_type": "markdown",
      "source": [
        "# Graphs"
      ],
      "metadata": {
        "id": "2KvMzpDQCGdO"
      }
    },
    {
      "cell_type": "code",
      "source": [
        "x=data.Years\n",
        "y=data.SKW_USD_FX\n",
        "plt.plot(x,y)\n",
        "plt.xlabel(\"Years\")\n",
        "plt.ylabel(\"SKW/USD_FX\")\n",
        "plt.title('SKW/USD_FX v/s Years')"
      ],
      "metadata": {
        "colab": {
          "base_uri": "https://localhost:8080/",
          "height": 312
        },
        "id": "uTds9HrNLBYw",
        "outputId": "3489be10-dee7-4ece-b726-e0286d710be8"
      },
      "execution_count": null,
      "outputs": [
        {
          "output_type": "execute_result",
          "data": {
            "text/plain": [
              "Text(0.5, 1.0, 'SKW/USD_FX v/s Years')"
            ]
          },
          "metadata": {},
          "execution_count": 4
        },
        {
          "output_type": "display_data",
          "data": {
            "text/plain": [
              "<Figure size 432x288 with 1 Axes>"
            ],
            "image/png": "[encoded data removed]"
          },
          "metadata": {
            "needs_background": "light"
          }
        }
      ]
    },
    {
      "cell_type": "code",
      "source": [
        "x=data.Years\n",
        "y=data.INF_Diff\t\n",
        "plt.plot(x,y)\n",
        "plt.xlabel(\"Years\")\n",
        "plt.ylabel(\"INF_Diff\t\")\n",
        "plt.title('INF_Diff v/s Years')"
      ],
      "metadata": {
        "colab": {
          "base_uri": "https://localhost:8080/",
          "height": 382
        },
        "id": "6cI2tHbJBW1V",
        "outputId": "09d71f42-b211-4d55-af2b-62394b0d1b2a"
      },
      "execution_count": null,
      "outputs": [
        {
          "output_type": "execute_result",
          "data": {
            "text/plain": [
              "Text(0.5, 1.0, 'INF_Diff v/s Years')"
            ]
          },
          "metadata": {},
          "execution_count": 5
        },
        {
          "output_type": "stream",
          "name": "stderr",
          "text": [
            "/usr/local/lib/python3.7/dist-packages/matplotlib/backends/backend_agg.py:214: RuntimeWarning: Glyph 9 missing from current font.\n",
            "  font.set_text(s, 0.0, flags=flags)\n",
            "/usr/local/lib/python3.7/dist-packages/matplotlib/backends/backend_agg.py:183: RuntimeWarning: Glyph 9 missing from current font.\n",
            "  font.set_text(s, 0, flags=flags)\n"
          ]
        },
        {
          "output_type": "display_data",
          "data": {
            "text/plain": [
              "<Figure size 432x288 with 1 Axes>"
            ],
            "image/png": "[encoded data removed]"
          },
          "metadata": {
            "needs_background": "light"
          }
        }
      ]
    },
    {
      "cell_type": "code",
      "source": [
        "x=data.Years\n",
        "y=data.M_Diff\t\n",
        "plt.plot(x,y)\n",
        "plt.xlabel(\"Years\")\n",
        "plt.ylabel(\"M_Diff\")\n",
        "plt.title('M_Diff v/s Years')"
      ],
      "metadata": {
        "colab": {
          "base_uri": "https://localhost:8080/",
          "height": 312
        },
        "id": "nWRytP8WBYFN",
        "outputId": "08a75f3d-6619-4375-dc72-11844465213c"
      },
      "execution_count": null,
      "outputs": [
        {
          "output_type": "execute_result",
          "data": {
            "text/plain": [
              "Text(0.5, 1.0, 'M_Diff v/s Years')"
            ]
          },
          "metadata": {},
          "execution_count": 6
        },
        {
          "output_type": "display_data",
          "data": {
            "text/plain": [
              "<Figure size 432x288 with 1 Axes>"
            ],
            "image/png": "[encoded data removed]"
          },
          "metadata": {
            "needs_background": "light"
          }
        }
      ]
    },
    {
      "cell_type": "code",
      "source": [
        "x=data.Years\n",
        "y=data.GDP_diff\n",
        "plt.plot(x,y)\n",
        "plt.xlabel(\"Years\")\n",
        "plt.ylabel(\"GDP_diff\")\n",
        "plt.title('GDP_diff v/s Years')"
      ],
      "metadata": {
        "colab": {
          "base_uri": "https://localhost:8080/",
          "height": 312
        },
        "id": "iY0_jtsfBY0A",
        "outputId": "e1548559-3f21-48a5-ffa4-911dd04af05d"
      },
      "execution_count": null,
      "outputs": [
        {
          "output_type": "execute_result",
          "data": {
            "text/plain": [
              "Text(0.5, 1.0, 'GDP_diff v/s Years')"
            ]
          },
          "metadata": {},
          "execution_count": 7
        },
        {
          "output_type": "display_data",
          "data": {
            "text/plain": [
              "<Figure size 432x288 with 1 Axes>"
            ],
            "image/png": "[encoded data removed]"
          },
          "metadata": {
            "needs_background": "light"
          }
        }
      ]
    },
    {
      "cell_type": "code",
      "source": [
        "x=data.Years\n",
        "y=data.CA_diff\n",
        "plt.plot(x,y)\n",
        "plt.xlabel(\"Years\")\n",
        "plt.ylabel(\"CA_diff\")\n",
        "plt.title('CA_diff v/s Years')"
      ],
      "metadata": {
        "colab": {
          "base_uri": "https://localhost:8080/",
          "height": 312
        },
        "id": "Dxoic3wvBZfq",
        "outputId": "3e32b169-13c0-4485-e55f-4c1e3dad8f05"
      },
      "execution_count": null,
      "outputs": [
        {
          "output_type": "execute_result",
          "data": {
            "text/plain": [
              "Text(0.5, 1.0, 'CA_diff v/s Years')"
            ]
          },
          "metadata": {},
          "execution_count": 8
        },
        {
          "output_type": "display_data",
          "data": {
            "text/plain": [
              "<Figure size 432x288 with 1 Axes>"
            ],
            "image/png": "[encoded data removed]"
          },
          "metadata": {
            "needs_background": "light"
          }
        }
      ]
    },
    {
      "cell_type": "markdown",
      "source": [
        "# Correlation Matrix and its Results"
      ],
      "metadata": {
        "id": "cposLruXKs5R"
      }
    },
    {
      "cell_type": "code",
      "source": [
        "# Drawing a correlation matrix\n",
        "corr = data.corr()\n",
        "sns.heatmap(corr, xticklabels=corr.columns.values, yticklabels=corr.columns.values, annot = True)"
      ],
      "metadata": {
        "colab": {
          "base_uri": "https://localhost:8080/",
          "height": 343
        },
        "id": "Sh_e-1x_LW-0",
        "outputId": "9de3b268-3ef7-4803-d41f-6af2651d722f"
      },
      "execution_count": null,
      "outputs": [
        {
          "output_type": "execute_result",
          "data": {
            "text/plain": [
              "<matplotlib.axes._subplots.AxesSubplot at 0x7fa43fac1a10>"
            ]
          },
          "metadata": {},
          "execution_count": 9
        },
        {
          "output_type": "display_data",
          "data": {
            "text/plain": [
              "<Figure size 432x288 with 2 Axes>"
            ],
            "image/png": "[encoded data removed]"
          },
          "metadata": {
            "needs_background": "light"
          }
        }
      ]
    },
    {
      "cell_type": "markdown",
      "source": [
        "Strong Correlation is found between SKW_USD_FX and:\n",
        "\n",
        "1) M_Diff (0.65)\n",
        "\n",
        "2) CA_Diff (0.67)"
      ],
      "metadata": {
        "id": "-f9JHr-3A7kH"
      }
    },
    {
      "cell_type": "markdown",
      "source": [
        "Weak Correlation is found between SKW_USD_FX and:\n",
        "\n",
        "1) INF_Diff (-0.36)\n",
        "\n",
        "2) GDP_Diff (-0.49)"
      ],
      "metadata": {
        "id": "ggwGt4VBH4zT"
      }
    },
    {
      "cell_type": "markdown",
      "source": [
        "#Checking for Multicollinearity"
      ],
      "metadata": {
        "id": "qHSnltbUKoAH"
      }
    },
    {
      "cell_type": "markdown",
      "source": [
        "VIF is used to identify the correlation of one independent variable with a group of other variables.\n",
        "\n",
        "VIF = 1 → No correlation\n",
        "\n",
        "VIF = 1 to 5 → Moderate correlation\n",
        "\n",
        "VIF >10 → High correlation"
      ],
      "metadata": {
        "id": "SdO37r3rLjUS"
      }
    },
    {
      "cell_type": "code",
      "source": [
        "from statsmodels.stats.outliers_influence import variance_inflation_factor"
      ],
      "metadata": {
        "colab": {
          "base_uri": "https://localhost:8080/"
        },
        "id": "TtdihTxLMNFJ",
        "outputId": "5e4732c6-0c48-4f21-f507-e92a310c35c1"
      },
      "execution_count": null,
      "outputs": [
        {
          "output_type": "stream",
          "name": "stderr",
          "text": [
            "/usr/local/lib/python3.7/dist-packages/statsmodels/tools/_testing.py:19: FutureWarning: pandas.util.testing is deprecated. Use the functions in the public API at pandas.testing instead.\n",
            "  import pandas.util.testing as tm\n"
          ]
        }
      ]
    },
    {
      "cell_type": "code",
      "source": [
        "def vif_scores(df):\n",
        "    VIF_Scores = pd.DataFrame()\n",
        "    VIF_Scores[\"Independent Features\"] = df.columns\n",
        "    VIF_Scores[\"VIF Scores\"] = [variance_inflation_factor(df.values,i) for i in range(df.shape[1])]\n",
        "    return VIF_Scores\n",
        "df1 = data.iloc[:,:]\n",
        "vif_scores(df1)"
      ],
      "metadata": {
        "colab": {
          "base_uri": "https://localhost:8080/",
          "height": 237
        },
        "id": "uGd9cz62F9Zr",
        "outputId": "eb6a9bdb-32d6-4018-daaf-879040f23aed"
      },
      "execution_count": null,
      "outputs": [
        {
          "output_type": "execute_result",
          "data": {
            "text/plain": [
              "  Independent Features  VIF Scores\n",
              "0                Years   70.354832\n",
              "1           SKW_USD_FX   55.840451\n",
              "2             INF_Diff    1.788673\n",
              "3               M_Diff    5.009088\n",
              "4             GDP_diff    2.712373\n",
              "5              CA_diff    6.405381"
            ],
            "text/html": [
              "\n",
              "  <div id=\"df-c23174a9-be7c-4dbc-aa48-a224f8bd4622\">\n",
              "    <div class=\"colab-df-container\">\n",
              "      <div>\n",
              "<style scoped>\n",
              "    .dataframe tbody tr th:only-of-type {\n",
              "        vertical-align: middle;\n",
              "    }\n",
              "\n",
              "    .dataframe tbody tr th {\n",
              "        vertical-align: top;\n",
              "    }\n",
              "\n",
              "    .dataframe thead th {\n",
              "        text-align: right;\n",
              "    }\n",
              "</style>\n",
              "<table border=\"1\" class=\"dataframe\">\n",
              "  <thead>\n",
              "    <tr style=\"text-align: right;\">\n",
              "      <th></th>\n",
              "      <th>Independent Features</th>\n",
              "      <th>VIF Scores</th>\n",
              "    </tr>\n",
              "  </thead>\n",
              "  <tbody>\n",
              "    <tr>\n",
              "      <th>0</th>\n",
              "      <td>Years</td>\n",
              "      <td>70.354832</td>\n",
              "    </tr>\n",
              "    <tr>\n",
              "      <th>1</th>\n",
              "      <td>SKW_USD_FX</td>\n",
              "      <td>55.840451</td>\n",
              "    </tr>\n",
              "    <tr>\n",
              "      <th>2</th>\n",
              "      <td>INF_Diff</td>\n",
              "      <td>1.788673</td>\n",
              "    </tr>\n",
              "    <tr>\n",
              "      <th>3</th>\n",
              "      <td>M_Diff</td>\n",
              "      <td>5.009088</td>\n",
              "    </tr>\n",
              "    <tr>\n",
              "      <th>4</th>\n",
              "      <td>GDP_diff</td>\n",
              "      <td>2.712373</td>\n",
              "    </tr>\n",
              "    <tr>\n",
              "      <th>5</th>\n",
              "      <td>CA_diff</td>\n",
              "      <td>6.405381</td>\n",
              "    </tr>\n",
              "  </tbody>\n",
              "</table>\n",
              "</div>\n",
              "      <button class=\"colab-df-convert\" onclick=\"convertToInteractive('df-c23174a9-be7c-4dbc-aa48-a224f8bd4622')\"\n",
              "              title=\"Convert this dataframe to an interactive table.\"\n",
              "              style=\"display:none;\">\n",
              "        \n",
              "  <svg xmlns=\"http://www.w3.org/2000/svg\" height=\"24px\"viewBox=\"0 0 24 24\"\n",
              "       width=\"24px\">\n",
              "    <path d=\"M0 0h24v24H0V0z\" fill=\"none\"/>\n",
              "    <path d=\"M18.56 5.44l.94 2.06.94-2.06 2.06-.94-2.06-.94-.94-2.06-.94 2.06-2.06.94zm-11 1L8.5 8.5l.94-2.06 2.06-.94-2.06-.94L8.5 2.5l-.94 2.06-2.06.94zm10 10l.94 2.06.94-2.06 2.06-.94-2.06-.94-.94-2.06-.94 2.06-2.06.94z\"/><path d=\"M17.41 7.96l-1.37-1.37c-.4-.4-.92-.59-1.43-.59-.52 0-1.04.2-1.43.59L10.3 9.45l-7.72 7.72c-.78.78-.78 2.05 0 2.83L4 21.41c.39.39.9.59 1.41.59.51 0 1.02-.2 1.41-.59l7.78-7.78 2.81-2.81c.8-.78.8-2.07 0-2.86zM5.41 20L4 18.59l7.72-7.72 1.47 1.35L5.41 20z\"/>\n",
              "  </svg>\n",
              "      </button>\n",
              "      \n",
              "  <style>\n",
              "    .colab-df-container {\n",
              "      display:flex;\n",
              "      flex-wrap:wrap;\n",
              "      gap: 12px;\n",
              "    }\n",
              "\n",
              "    .colab-df-convert {\n",
              "      background-color: #E8F0FE;\n",
              "      border: none;\n",
              "      border-radius: 50%;\n",
              "      cursor: pointer;\n",
              "      display: none;\n",
              "      fill: #1967D2;\n",
              "      height: 32px;\n",
              "      padding: 0 0 0 0;\n",
              "      width: 32px;\n",
              "    }\n",
              "\n",
              "    .colab-df-convert:hover {\n",
              "      background-color: #E2EBFA;\n",
              "      box-shadow: 0px 1px 2px rgba(60, 64, 67, 0.3), 0px 1px 3px 1px rgba(60, 64, 67, 0.15);\n",
              "      fill: #174EA6;\n",
              "    }\n",
              "\n",
              "    [theme=dark] .colab-df-convert {\n",
              "      background-color: #3B4455;\n",
              "      fill: #D2E3FC;\n",
              "    }\n",
              "\n",
              "    [theme=dark] .colab-df-convert:hover {\n",
              "      background-color: #434B5C;\n",
              "      box-shadow: 0px 1px 3px 1px rgba(0, 0, 0, 0.15);\n",
              "      filter: drop-shadow(0px 1px 2px rgba(0, 0, 0, 0.3));\n",
              "      fill: #FFFFFF;\n",
              "    }\n",
              "  </style>\n",
              "\n",
              "      <script>\n",
              "        const buttonEl =\n",
              "          document.querySelector('#df-c23174a9-be7c-4dbc-aa48-a224f8bd4622 button.colab-df-convert');\n",
              "        buttonEl.style.display =\n",
              "          google.colab.kernel.accessAllowed ? 'block' : 'none';\n",
              "\n",
              "        async function convertToInteractive(key) {\n",
              "          const element = document.querySelector('#df-c23174a9-be7c-4dbc-aa48-a224f8bd4622');\n",
              "          const dataTable =\n",
              "            await google.colab.kernel.invokeFunction('convertToInteractive',\n",
              "                                                     [key], {});\n",
              "          if (!dataTable) return;\n",
              "\n",
              "          const docLinkHtml = 'Like what you see? Visit the ' +\n",
              "            '<a target=\"_blank\" href=https://colab.research.google.com/notebooks/data_table.ipynb>data table notebook</a>'\n",
              "            + ' to learn more about interactive tables.';\n",
              "          element.innerHTML = '';\n",
              "          dataTable['output_type'] = 'display_data';\n",
              "          await google.colab.output.renderOutput(dataTable, element);\n",
              "          const docLink = document.createElement('div');\n",
              "          docLink.innerHTML = docLinkHtml;\n",
              "          element.appendChild(docLink);\n",
              "        }\n",
              "      </script>\n",
              "    </div>\n",
              "  </div>\n",
              "  "
            ]
          },
          "metadata": {},
          "execution_count": 11
        }
      ]
    },
    {
      "cell_type": "markdown",
      "source": [
        "From our 4 independent variables, none of them have high coorelation (VIF above 10) so we don't have to worry about multicollinearity"
      ],
      "metadata": {
        "id": "rZPqya-GNUx9"
      }
    },
    {
      "cell_type": "markdown",
      "source": [
        "# Linear Regression"
      ],
      "metadata": {
        "id": "0jeE1qbEP735"
      }
    },
    {
      "cell_type": "code",
      "source": [
        "from sklearn.linear_model import LinearRegression\n",
        "df_ols = data        ### This is not needed here, used later\n",
        "df=data.drop(\"Years\",axis=1)\n",
        "df1=df.drop(\"SKW_USD_FX\",axis=1)\n",
        "X = df1\n",
        "y=data.SKW_USD_FX\n",
        "print(X.shape)\n",
        "print(y.shape)"
      ],
      "metadata": {
        "colab": {
          "base_uri": "https://localhost:8080/"
        },
        "id": "zCWZ0RhoNtYI",
        "outputId": "dd8448f1-df7d-4420-d309-745c27e5a652"
      },
      "execution_count": null,
      "outputs": [
        {
          "output_type": "stream",
          "name": "stdout",
          "text": [
            "(168, 4)\n",
            "(168,)\n"
          ]
        }
      ]
    },
    {
      "cell_type": "code",
      "source": [
        "df1.head()"
      ],
      "metadata": {
        "colab": {
          "base_uri": "https://localhost:8080/",
          "height": 206
        },
        "id": "WqQRgiF7Rtdo",
        "outputId": "0d30cf9d-783b-4461-ec17-446a9f7318d6"
      },
      "execution_count": null,
      "outputs": [
        {
          "output_type": "execute_result",
          "data": {
            "text/plain": [
              "   INF_Diff     M_Diff  GDP_diff  CA_diff\n",
              "0  12.60355 -11.906443 -4.086520   1366.8\n",
              "1  12.26013 -12.076011 -3.142056   -601.7\n",
              "2  15.93836 -12.422379  2.312286  -6018.2\n",
              "3  19.34722 -12.664726 -0.547334  -3958.5\n",
              "4  13.82134 -12.844519  0.995386  -2618.7"
            ],
            "text/html": [
              "\n",
              "  <div id=\"df-65abcfd8-8023-4261-bd99-2b1f81e1f723\">\n",
              "    <div class=\"colab-df-container\">\n",
              "      <div>\n",
              "<style scoped>\n",
              "    .dataframe tbody tr th:only-of-type {\n",
              "        vertical-align: middle;\n",
              "    }\n",
              "\n",
              "    .dataframe tbody tr th {\n",
              "        vertical-align: top;\n",
              "    }\n",
              "\n",
              "    .dataframe thead th {\n",
              "        text-align: right;\n",
              "    }\n",
              "</style>\n",
              "<table border=\"1\" class=\"dataframe\">\n",
              "  <thead>\n",
              "    <tr style=\"text-align: right;\">\n",
              "      <th></th>\n",
              "      <th>INF_Diff</th>\n",
              "      <th>M_Diff</th>\n",
              "      <th>GDP_diff</th>\n",
              "      <th>CA_diff</th>\n",
              "    </tr>\n",
              "  </thead>\n",
              "  <tbody>\n",
              "    <tr>\n",
              "      <th>0</th>\n",
              "      <td>12.60355</td>\n",
              "      <td>-11.906443</td>\n",
              "      <td>-4.086520</td>\n",
              "      <td>1366.8</td>\n",
              "    </tr>\n",
              "    <tr>\n",
              "      <th>1</th>\n",
              "      <td>12.26013</td>\n",
              "      <td>-12.076011</td>\n",
              "      <td>-3.142056</td>\n",
              "      <td>-601.7</td>\n",
              "    </tr>\n",
              "    <tr>\n",
              "      <th>2</th>\n",
              "      <td>15.93836</td>\n",
              "      <td>-12.422379</td>\n",
              "      <td>2.312286</td>\n",
              "      <td>-6018.2</td>\n",
              "    </tr>\n",
              "    <tr>\n",
              "      <th>3</th>\n",
              "      <td>19.34722</td>\n",
              "      <td>-12.664726</td>\n",
              "      <td>-0.547334</td>\n",
              "      <td>-3958.5</td>\n",
              "    </tr>\n",
              "    <tr>\n",
              "      <th>4</th>\n",
              "      <td>13.82134</td>\n",
              "      <td>-12.844519</td>\n",
              "      <td>0.995386</td>\n",
              "      <td>-2618.7</td>\n",
              "    </tr>\n",
              "  </tbody>\n",
              "</table>\n",
              "</div>\n",
              "      <button class=\"colab-df-convert\" onclick=\"convertToInteractive('df-65abcfd8-8023-4261-bd99-2b1f81e1f723')\"\n",
              "              title=\"Convert this dataframe to an interactive table.\"\n",
              "              style=\"display:none;\">\n",
              "        \n",
              "  <svg xmlns=\"http://www.w3.org/2000/svg\" height=\"24px\"viewBox=\"0 0 24 24\"\n",
              "       width=\"24px\">\n",
              "    <path d=\"M0 0h24v24H0V0z\" fill=\"none\"/>\n",
              "    <path d=\"M18.56 5.44l.94 2.06.94-2.06 2.06-.94-2.06-.94-.94-2.06-.94 2.06-2.06.94zm-11 1L8.5 8.5l.94-2.06 2.06-.94-2.06-.94L8.5 2.5l-.94 2.06-2.06.94zm10 10l.94 2.06.94-2.06 2.06-.94-2.06-.94-.94-2.06-.94 2.06-2.06.94z\"/><path d=\"M17.41 7.96l-1.37-1.37c-.4-.4-.92-.59-1.43-.59-.52 0-1.04.2-1.43.59L10.3 9.45l-7.72 7.72c-.78.78-.78 2.05 0 2.83L4 21.41c.39.39.9.59 1.41.59.51 0 1.02-.2 1.41-.59l7.78-7.78 2.81-2.81c.8-.78.8-2.07 0-2.86zM5.41 20L4 18.59l7.72-7.72 1.47 1.35L5.41 20z\"/>\n",
              "  </svg>\n",
              "      </button>\n",
              "      \n",
              "  <style>\n",
              "    .colab-df-container {\n",
              "      display:flex;\n",
              "      flex-wrap:wrap;\n",
              "      gap: 12px;\n",
              "    }\n",
              "\n",
              "    .colab-df-convert {\n",
              "      background-color: #E8F0FE;\n",
              "      border: none;\n",
              "      border-radius: 50%;\n",
              "      cursor: pointer;\n",
              "      display: none;\n",
              "      fill: #1967D2;\n",
              "      height: 32px;\n",
              "      padding: 0 0 0 0;\n",
              "      width: 32px;\n",
              "    }\n",
              "\n",
              "    .colab-df-convert:hover {\n",
              "      background-color: #E2EBFA;\n",
              "      box-shadow: 0px 1px 2px rgba(60, 64, 67, 0.3), 0px 1px 3px 1px rgba(60, 64, 67, 0.15);\n",
              "      fill: #174EA6;\n",
              "    }\n",
              "\n",
              "    [theme=dark] .colab-df-convert {\n",
              "      background-color: #3B4455;\n",
              "      fill: #D2E3FC;\n",
              "    }\n",
              "\n",
              "    [theme=dark] .colab-df-convert:hover {\n",
              "      background-color: #434B5C;\n",
              "      box-shadow: 0px 1px 3px 1px rgba(0, 0, 0, 0.15);\n",
              "      filter: drop-shadow(0px 1px 2px rgba(0, 0, 0, 0.3));\n",
              "      fill: #FFFFFF;\n",
              "    }\n",
              "  </style>\n",
              "\n",
              "      <script>\n",
              "        const buttonEl =\n",
              "          document.querySelector('#df-65abcfd8-8023-4261-bd99-2b1f81e1f723 button.colab-df-convert');\n",
              "        buttonEl.style.display =\n",
              "          google.colab.kernel.accessAllowed ? 'block' : 'none';\n",
              "\n",
              "        async function convertToInteractive(key) {\n",
              "          const element = document.querySelector('#df-65abcfd8-8023-4261-bd99-2b1f81e1f723');\n",
              "          const dataTable =\n",
              "            await google.colab.kernel.invokeFunction('convertToInteractive',\n",
              "                                                     [key], {});\n",
              "          if (!dataTable) return;\n",
              "\n",
              "          const docLinkHtml = 'Like what you see? Visit the ' +\n",
              "            '<a target=\"_blank\" href=https://colab.research.google.com/notebooks/data_table.ipynb>data table notebook</a>'\n",
              "            + ' to learn more about interactive tables.';\n",
              "          element.innerHTML = '';\n",
              "          dataTable['output_type'] = 'display_data';\n",
              "          await google.colab.output.renderOutput(dataTable, element);\n",
              "          const docLink = document.createElement('div');\n",
              "          docLink.innerHTML = docLinkHtml;\n",
              "          element.appendChild(docLink);\n",
              "        }\n",
              "      </script>\n",
              "    </div>\n",
              "  </div>\n",
              "  "
            ]
          },
          "metadata": {},
          "execution_count": 13
        }
      ]
    },
    {
      "cell_type": "code",
      "source": [
        "#use linear regression class and create the model\n",
        "model=LinearRegression()\n",
        "model.fit(X,y)"
      ],
      "metadata": {
        "colab": {
          "base_uri": "https://localhost:8080/"
        },
        "id": "Uvx2TXPDR3YJ",
        "outputId": "64535ea4-e803-4c19-b1a8-d8c1f9ed7b27"
      },
      "execution_count": null,
      "outputs": [
        {
          "output_type": "execute_result",
          "data": {
            "text/plain": [
              "LinearRegression()"
            ]
          },
          "metadata": {},
          "execution_count": 14
        }
      ]
    },
    {
      "cell_type": "code",
      "source": [
        "model.coef_"
      ],
      "metadata": {
        "colab": {
          "base_uri": "https://localhost:8080/"
        },
        "id": "3fr6ayWmSFmn",
        "outputId": "91c8de3b-5add-475c-e0c8-2b72a0317783"
      },
      "execution_count": null,
      "outputs": [
        {
          "output_type": "execute_result",
          "data": {
            "text/plain": [
              "array([-7.86383204e+00,  8.60819607e+00, -1.05964578e+01,  1.06946778e-03])"
            ]
          },
          "metadata": {},
          "execution_count": 15
        }
      ]
    },
    {
      "cell_type": "code",
      "source": [
        "model.intercept_"
      ],
      "metadata": {
        "colab": {
          "base_uri": "https://localhost:8080/"
        },
        "id": "BRjIMxbGSPrD",
        "outputId": "6c9e4767-715a-4c86-c6a3-9157513dd8cf"
      },
      "execution_count": null,
      "outputs": [
        {
          "output_type": "execute_result",
          "data": {
            "text/plain": [
              "1025.7361675554941"
            ]
          },
          "metadata": {},
          "execution_count": 16
        }
      ]
    },
    {
      "cell_type": "markdown",
      "source": [
        "SKW_USD_FX = (-7.86383204e+00)INF_Diff + (8.60819607e+00)M_Diff + (-1.05964578e+01)GDP_diff + (1.06946778e-03)CA_diff + 1025.7361675554941"
      ],
      "metadata": {
        "id": "k-hffg-sSaxn"
      }
    },
    {
      "cell_type": "markdown",
      "source": [
        "# Evaluation"
      ],
      "metadata": {
        "id": "s4uAslaATuZo"
      }
    },
    {
      "cell_type": "code",
      "source": [
        "y_predicted=model.predict(X)\n",
        "#y_predicted"
      ],
      "metadata": {
        "id": "CHtCDeoaTirD"
      },
      "execution_count": null,
      "outputs": []
    },
    {
      "cell_type": "code",
      "source": [
        "model.score(X,y)"
      ],
      "metadata": {
        "colab": {
          "base_uri": "https://localhost:8080/"
        },
        "id": "J2FRmyMsUwI1",
        "outputId": "6276deae-7823-4247-b8a0-8c74c099c634"
      },
      "execution_count": null,
      "outputs": [
        {
          "output_type": "execute_result",
          "data": {
            "text/plain": [
              "0.5804924468860142"
            ]
          },
          "metadata": {},
          "execution_count": 18
        }
      ]
    },
    {
      "cell_type": "code",
      "source": [
        "#from sklearn.metrics import r2_score         ##Not needed\n",
        "#score=r2_score(y,y_predicted)\n",
        "#score"
      ],
      "metadata": {
        "id": "ZegvBzcAMbR2"
      },
      "execution_count": null,
      "outputs": []
    },
    {
      "cell_type": "markdown",
      "source": [
        "It is the R squared metric score"
      ],
      "metadata": {
        "id": "1jWLyjozV41g"
      }
    },
    {
      "cell_type": "markdown",
      "source": [
        "# OLS (Ordinary Least Squares)"
      ],
      "metadata": {
        "id": "MKUSSXuLDU-o"
      }
    },
    {
      "cell_type": "code",
      "source": [
        "import statsmodels.api as sm # import statsmodels \n",
        "A=df_ols[['INF_Diff','M_Diff', 'GDP_diff', 'CA_diff']] ## input variables (or independent variables)\n",
        "B=df_ols[['SKW_USD_FX']] ## output/dependent variable\n",
        "A1 = sm.add_constant(A) ## Adding intercept (beta_0) to the model\n",
        "model_ols = sm.OLS(B,A1).fit() ## sm.OLS(output, input)\n",
        "# Print out the statistics"
      ],
      "metadata": {
        "colab": {
          "base_uri": "https://localhost:8080/"
        },
        "id": "EWXh5HAADUdT",
        "outputId": "86c67b9b-c618-46a8-cca7-cada9e35d39d"
      },
      "execution_count": null,
      "outputs": [
        {
          "output_type": "stream",
          "name": "stderr",
          "text": [
            "/usr/local/lib/python3.7/dist-packages/statsmodels/tsa/tsatools.py:117: FutureWarning: In a future version of pandas all arguments of concat except for the argument 'objs' will be keyword-only\n",
            "  x = pd.concat(x[::order], 1)\n"
          ]
        }
      ]
    },
    {
      "cell_type": "code",
      "source": [
        "model_ols.summary()"
      ],
      "metadata": {
        "colab": {
          "base_uri": "https://localhost:8080/",
          "height": 550
        },
        "id": "2obfH9ypDsX2",
        "outputId": "b5e73634-18ed-4050-aafa-312e908499ee"
      },
      "execution_count": null,
      "outputs": [
        {
          "output_type": "execute_result",
          "data": {
            "text/plain": [
              "<class 'statsmodels.iolib.summary.Summary'>\n",
              "\"\"\"\n",
              "                            OLS Regression Results                            \n",
              "==============================================================================\n",
              "Dep. Variable:             SKW_USD_FX   R-squared:                       0.580\n",
              "Model:                            OLS   Adj. R-squared:                  0.570\n",
              "Method:                 Least Squares   F-statistic:                     56.39\n",
              "Date:                Wed, 13 Jul 2022   Prob (F-statistic):           8.66e-30\n",
              "Time:                        10:15:42   Log-Likelihood:                -1062.6\n",
              "No. Observations:                 168   AIC:                             2135.\n",
              "Df Residuals:                     163   BIC:                             2151.\n",
              "Df Model:                           4                                         \n",
              "Covariance Type:            nonrobust                                         \n",
              "==============================================================================\n",
              "                 coef    std err          t      P>|t|      [0.025      0.975]\n",
              "------------------------------------------------------------------------------\n",
              "const       1025.7362     37.368     27.450      0.000     951.949    1099.524\n",
              "INF_Diff      -7.8638      3.886     -2.024      0.045     -15.537      -0.190\n",
              "M_Diff         8.6082      1.769      4.866      0.000       5.115      12.102\n",
              "GDP_diff     -10.5965      3.216     -3.295      0.001     -16.947      -4.246\n",
              "CA_diff        0.0011      0.000      4.548      0.000       0.001       0.002\n",
              "==============================================================================\n",
              "Omnibus:                       33.173   Durbin-Watson:                   0.224\n",
              "Prob(Omnibus):                  0.000   Jarque-Bera (JB):               51.081\n",
              "Skew:                           1.044   Prob(JB):                     8.09e-12\n",
              "Kurtosis:                       4.713   Cond. No.                     3.79e+05\n",
              "==============================================================================\n",
              "\n",
              "Warnings:\n",
              "[1] Standard Errors assume that the covariance matrix of the errors is correctly specified.\n",
              "[2] The condition number is large, 3.79e+05. This might indicate that there are\n",
              "strong multicollinearity or other numerical problems.\n",
              "\"\"\""
            ],
            "text/html": [
              "<table class=\"simpletable\">\n",
              "<caption>OLS Regression Results</caption>\n",
              "<tr>\n",
              "  <th>Dep. Variable:</th>       <td>SKW_USD_FX</td>    <th>  R-squared:         </th> <td>   0.580</td>\n",
              "</tr>\n",
              "<tr>\n",
              "  <th>Model:</th>                   <td>OLS</td>       <th>  Adj. R-squared:    </th> <td>   0.570</td>\n",
              "</tr>\n",
              "<tr>\n",
              "  <th>Method:</th>             <td>Least Squares</td>  <th>  F-statistic:       </th> <td>   56.39</td>\n",
              "</tr>\n",
              "<tr>\n",
              "  <th>Date:</th>             <td>Wed, 13 Jul 2022</td> <th>  Prob (F-statistic):</th> <td>8.66e-30</td>\n",
              "</tr>\n",
              "<tr>\n",
              "  <th>Time:</th>                 <td>10:15:42</td>     <th>  Log-Likelihood:    </th> <td> -1062.6</td>\n",
              "</tr>\n",
              "<tr>\n",
              "  <th>No. Observations:</th>      <td>   168</td>      <th>  AIC:               </th> <td>   2135.</td>\n",
              "</tr>\n",
              "<tr>\n",
              "  <th>Df Residuals:</th>          <td>   163</td>      <th>  BIC:               </th> <td>   2151.</td>\n",
              "</tr>\n",
              "<tr>\n",
              "  <th>Df Model:</th>              <td>     4</td>      <th>                     </th>     <td> </td>   \n",
              "</tr>\n",
              "<tr>\n",
              "  <th>Covariance Type:</th>      <td>nonrobust</td>    <th>                     </th>     <td> </td>   \n",
              "</tr>\n",
              "</table>\n",
              "<table class=\"simpletable\">\n",
              "<tr>\n",
              "      <td></td>        <th>coef</th>     <th>std err</th>      <th>t</th>      <th>P>|t|</th>  <th>[0.025</th>    <th>0.975]</th>  \n",
              "</tr>\n",
              "<tr>\n",
              "  <th>const</th>    <td> 1025.7362</td> <td>   37.368</td> <td>   27.450</td> <td> 0.000</td> <td>  951.949</td> <td> 1099.524</td>\n",
              "</tr>\n",
              "<tr>\n",
              "  <th>INF_Diff</th> <td>   -7.8638</td> <td>    3.886</td> <td>   -2.024</td> <td> 0.045</td> <td>  -15.537</td> <td>   -0.190</td>\n",
              "</tr>\n",
              "<tr>\n",
              "  <th>M_Diff</th>   <td>    8.6082</td> <td>    1.769</td> <td>    4.866</td> <td> 0.000</td> <td>    5.115</td> <td>   12.102</td>\n",
              "</tr>\n",
              "<tr>\n",
              "  <th>GDP_diff</th> <td>  -10.5965</td> <td>    3.216</td> <td>   -3.295</td> <td> 0.001</td> <td>  -16.947</td> <td>   -4.246</td>\n",
              "</tr>\n",
              "<tr>\n",
              "  <th>CA_diff</th>  <td>    0.0011</td> <td>    0.000</td> <td>    4.548</td> <td> 0.000</td> <td>    0.001</td> <td>    0.002</td>\n",
              "</tr>\n",
              "</table>\n",
              "<table class=\"simpletable\">\n",
              "<tr>\n",
              "  <th>Omnibus:</th>       <td>33.173</td> <th>  Durbin-Watson:     </th> <td>   0.224</td>\n",
              "</tr>\n",
              "<tr>\n",
              "  <th>Prob(Omnibus):</th> <td> 0.000</td> <th>  Jarque-Bera (JB):  </th> <td>  51.081</td>\n",
              "</tr>\n",
              "<tr>\n",
              "  <th>Skew:</th>          <td> 1.044</td> <th>  Prob(JB):          </th> <td>8.09e-12</td>\n",
              "</tr>\n",
              "<tr>\n",
              "  <th>Kurtosis:</th>      <td> 4.713</td> <th>  Cond. No.          </th> <td>3.79e+05</td>\n",
              "</tr>\n",
              "</table><br/><br/>Warnings:<br/>[1] Standard Errors assume that the covariance matrix of the errors is correctly specified.<br/>[2] The condition number is large, 3.79e+05. This might indicate that there are<br/>strong multicollinearity or other numerical problems."
            ]
          },
          "metadata": {},
          "execution_count": 21
        }
      ]
    },
    {
      "cell_type": "code",
      "source": [
        "#sm.OLS(B,A1).predict(y_predicted, X)"
      ],
      "metadata": {
        "id": "74v_iO6nG-mG"
      },
      "execution_count": null,
      "outputs": []
    },
    {
      "cell_type": "code",
      "source": [
        "df_ols=data.drop(\"Years\",axis=1)\n",
        "df_ols=df_ols.drop(\"SKW_USD_FX\",axis=1)\n",
        "df_ols=df_ols.drop(\"CA_diff\",axis=1)\n",
        "X = df_ols\n",
        "y=data.SKW_USD_FX\n",
        "print(X.shape)\n",
        "print(y.shape)"
      ],
      "metadata": {
        "colab": {
          "base_uri": "https://localhost:8080/"
        },
        "id": "o-iabSZEGCVG",
        "outputId": "9a5d692d-6b11-4c68-9f18-5ed3403beffd"
      },
      "execution_count": null,
      "outputs": [
        {
          "output_type": "stream",
          "name": "stdout",
          "text": [
            "(168, 3)\n",
            "(168,)\n"
          ]
        }
      ]
    },
    {
      "cell_type": "code",
      "source": [
        "df_ols.head()"
      ],
      "metadata": {
        "colab": {
          "base_uri": "https://localhost:8080/",
          "height": 206
        },
        "id": "agVnSMxZGVqp",
        "outputId": "7043c2e3-7615-4f3d-903e-9770493d502d"
      },
      "execution_count": null,
      "outputs": [
        {
          "output_type": "execute_result",
          "data": {
            "text/plain": [
              "   INF_Diff     M_Diff  GDP_diff\n",
              "0  12.60355 -11.906443 -4.086520\n",
              "1  12.26013 -12.076011 -3.142056\n",
              "2  15.93836 -12.422379  2.312286\n",
              "3  19.34722 -12.664726 -0.547334\n",
              "4  13.82134 -12.844519  0.995386"
            ],
            "text/html": [
              "\n",
              "  <div id=\"df-d78ec564-72e6-4ffa-ad74-b5479f348dae\">\n",
              "    <div class=\"colab-df-container\">\n",
              "      <div>\n",
              "<style scoped>\n",
              "    .dataframe tbody tr th:only-of-type {\n",
              "        vertical-align: middle;\n",
              "    }\n",
              "\n",
              "    .dataframe tbody tr th {\n",
              "        vertical-align: top;\n",
              "    }\n",
              "\n",
              "    .dataframe thead th {\n",
              "        text-align: right;\n",
              "    }\n",
              "</style>\n",
              "<table border=\"1\" class=\"dataframe\">\n",
              "  <thead>\n",
              "    <tr style=\"text-align: right;\">\n",
              "      <th></th>\n",
              "      <th>INF_Diff</th>\n",
              "      <th>M_Diff</th>\n",
              "      <th>GDP_diff</th>\n",
              "    </tr>\n",
              "  </thead>\n",
              "  <tbody>\n",
              "    <tr>\n",
              "      <th>0</th>\n",
              "      <td>12.60355</td>\n",
              "      <td>-11.906443</td>\n",
              "      <td>-4.086520</td>\n",
              "    </tr>\n",
              "    <tr>\n",
              "      <th>1</th>\n",
              "      <td>12.26013</td>\n",
              "      <td>-12.076011</td>\n",
              "      <td>-3.142056</td>\n",
              "    </tr>\n",
              "    <tr>\n",
              "      <th>2</th>\n",
              "      <td>15.93836</td>\n",
              "      <td>-12.422379</td>\n",
              "      <td>2.312286</td>\n",
              "    </tr>\n",
              "    <tr>\n",
              "      <th>3</th>\n",
              "      <td>19.34722</td>\n",
              "      <td>-12.664726</td>\n",
              "      <td>-0.547334</td>\n",
              "    </tr>\n",
              "    <tr>\n",
              "      <th>4</th>\n",
              "      <td>13.82134</td>\n",
              "      <td>-12.844519</td>\n",
              "      <td>0.995386</td>\n",
              "    </tr>\n",
              "  </tbody>\n",
              "</table>\n",
              "</div>\n",
              "      <button class=\"colab-df-convert\" onclick=\"convertToInteractive('df-d78ec564-72e6-4ffa-ad74-b5479f348dae')\"\n",
              "              title=\"Convert this dataframe to an interactive table.\"\n",
              "              style=\"display:none;\">\n",
              "        \n",
              "  <svg xmlns=\"http://www.w3.org/2000/svg\" height=\"24px\"viewBox=\"0 0 24 24\"\n",
              "       width=\"24px\">\n",
              "    <path d=\"M0 0h24v24H0V0z\" fill=\"none\"/>\n",
              "    <path d=\"M18.56 5.44l.94 2.06.94-2.06 2.06-.94-2.06-.94-.94-2.06-.94 2.06-2.06.94zm-11 1L8.5 8.5l.94-2.06 2.06-.94-2.06-.94L8.5 2.5l-.94 2.06-2.06.94zm10 10l.94 2.06.94-2.06 2.06-.94-2.06-.94-.94-2.06-.94 2.06-2.06.94z\"/><path d=\"M17.41 7.96l-1.37-1.37c-.4-.4-.92-.59-1.43-.59-.52 0-1.04.2-1.43.59L10.3 9.45l-7.72 7.72c-.78.78-.78 2.05 0 2.83L4 21.41c.39.39.9.59 1.41.59.51 0 1.02-.2 1.41-.59l7.78-7.78 2.81-2.81c.8-.78.8-2.07 0-2.86zM5.41 20L4 18.59l7.72-7.72 1.47 1.35L5.41 20z\"/>\n",
              "  </svg>\n",
              "      </button>\n",
              "      \n",
              "  <style>\n",
              "    .colab-df-container {\n",
              "      display:flex;\n",
              "      flex-wrap:wrap;\n",
              "      gap: 12px;\n",
              "    }\n",
              "\n",
              "    .colab-df-convert {\n",
              "      background-color: #E8F0FE;\n",
              "      border: none;\n",
              "      border-radius: 50%;\n",
              "      cursor: pointer;\n",
              "      display: none;\n",
              "      fill: #1967D2;\n",
              "      height: 32px;\n",
              "      padding: 0 0 0 0;\n",
              "      width: 32px;\n",
              "    }\n",
              "\n",
              "    .colab-df-convert:hover {\n",
              "      background-color: #E2EBFA;\n",
              "      box-shadow: 0px 1px 2px rgba(60, 64, 67, 0.3), 0px 1px 3px 1px rgba(60, 64, 67, 0.15);\n",
              "      fill: #174EA6;\n",
              "    }\n",
              "\n",
              "    [theme=dark] .colab-df-convert {\n",
              "      background-color: #3B4455;\n",
              "      fill: #D2E3FC;\n",
              "    }\n",
              "\n",
              "    [theme=dark] .colab-df-convert:hover {\n",
              "      background-color: #434B5C;\n",
              "      box-shadow: 0px 1px 3px 1px rgba(0, 0, 0, 0.15);\n",
              "      filter: drop-shadow(0px 1px 2px rgba(0, 0, 0, 0.3));\n",
              "      fill: #FFFFFF;\n",
              "    }\n",
              "  </style>\n",
              "\n",
              "      <script>\n",
              "        const buttonEl =\n",
              "          document.querySelector('#df-d78ec564-72e6-4ffa-ad74-b5479f348dae button.colab-df-convert');\n",
              "        buttonEl.style.display =\n",
              "          google.colab.kernel.accessAllowed ? 'block' : 'none';\n",
              "\n",
              "        async function convertToInteractive(key) {\n",
              "          const element = document.querySelector('#df-d78ec564-72e6-4ffa-ad74-b5479f348dae');\n",
              "          const dataTable =\n",
              "            await google.colab.kernel.invokeFunction('convertToInteractive',\n",
              "                                                     [key], {});\n",
              "          if (!dataTable) return;\n",
              "\n",
              "          const docLinkHtml = 'Like what you see? Visit the ' +\n",
              "            '<a target=\"_blank\" href=https://colab.research.google.com/notebooks/data_table.ipynb>data table notebook</a>'\n",
              "            + ' to learn more about interactive tables.';\n",
              "          element.innerHTML = '';\n",
              "          dataTable['output_type'] = 'display_data';\n",
              "          await google.colab.output.renderOutput(dataTable, element);\n",
              "          const docLink = document.createElement('div');\n",
              "          docLink.innerHTML = docLinkHtml;\n",
              "          element.appendChild(docLink);\n",
              "        }\n",
              "      </script>\n",
              "    </div>\n",
              "  </div>\n",
              "  "
            ]
          },
          "metadata": {},
          "execution_count": 31
        }
      ]
    },
    {
      "cell_type": "code",
      "source": [
        "#use linear regression class and create the model\n",
        "model=LinearRegression()\n",
        "model.fit(X,y)\n",
        "y_predicted=model.predict(X)\n",
        "model.score(X,y)"
      ],
      "metadata": {
        "colab": {
          "base_uri": "https://localhost:8080/"
        },
        "id": "rPAUMR2TGcFz",
        "outputId": "69ab378c-a6af-471e-d446-249eedaa6faa"
      },
      "execution_count": null,
      "outputs": [
        {
          "output_type": "execute_result",
          "data": {
            "text/plain": [
              "0.527249941813219"
            ]
          },
          "metadata": {},
          "execution_count": 32
        }
      ]
    },
    {
      "cell_type": "code",
      "source": [
        "y_predicted=model.predict(X)\n",
        "model.score(X,y)"
      ],
      "metadata": {
        "colab": {
          "base_uri": "https://localhost:8080/"
        },
        "id": "l5TkuyQmGn3u",
        "outputId": "5b502702-3bd9-4ebf-aae6-0dd83443dca3"
      },
      "execution_count": null,
      "outputs": [
        {
          "output_type": "execute_result",
          "data": {
            "text/plain": [
              "0.527249941813219"
            ]
          },
          "metadata": {},
          "execution_count": 33
        }
      ]
    },
    {
      "cell_type": "code",
      "source": [
        "import statsmodels.api as sm # import statsmodels \n",
        "A=data[['INF_Diff','M_Diff', 'GDP_diff']] ## input variables (or independent variables)\n",
        "B=data[['SKW_USD_FX']] ## output/dependent variable\n",
        "A1 = sm.add_constant(A) ## Adding intercept (beta_0) to the model\n",
        "model_ols = sm.OLS(B,A1).fit() ## sm.OLS(output, input)\n",
        "# Print out the statistics"
      ],
      "metadata": {
        "colab": {
          "base_uri": "https://localhost:8080/"
        },
        "id": "kyt9cCvzHimw",
        "outputId": "5455b556-eec1-41a1-bc81-1ec008a1a723"
      },
      "execution_count": null,
      "outputs": [
        {
          "output_type": "stream",
          "name": "stderr",
          "text": [
            "/usr/local/lib/python3.7/dist-packages/statsmodels/tsa/tsatools.py:117: FutureWarning: In a future version of pandas all arguments of concat except for the argument 'objs' will be keyword-only\n",
            "  x = pd.concat(x[::order], 1)\n"
          ]
        }
      ]
    },
    {
      "cell_type": "code",
      "source": [
        "model_ols.summary()"
      ],
      "metadata": {
        "colab": {
          "base_uri": "https://localhost:8080/",
          "height": 494
        },
        "id": "ETUaYFXvHxsX",
        "outputId": "ac977592-f464-4bba-f6c9-acc7ad097097"
      },
      "execution_count": null,
      "outputs": [
        {
          "output_type": "execute_result",
          "data": {
            "text/plain": [
              "<class 'statsmodels.iolib.summary.Summary'>\n",
              "\"\"\"\n",
              "                            OLS Regression Results                            \n",
              "==============================================================================\n",
              "Dep. Variable:             SKW_USD_FX   R-squared:                       0.527\n",
              "Model:                            OLS   Adj. R-squared:                  0.519\n",
              "Method:                 Least Squares   F-statistic:                     60.97\n",
              "Date:                Wed, 13 Jul 2022   Prob (F-statistic):           1.56e-26\n",
              "Time:                        10:33:44   Log-Likelihood:                -1072.6\n",
              "No. Observations:                 168   AIC:                             2153.\n",
              "Df Residuals:                     164   BIC:                             2166.\n",
              "Df Model:                           3                                         \n",
              "Covariance Type:            nonrobust                                         \n",
              "==============================================================================\n",
              "                 coef    std err          t      P>|t|      [0.025      0.975]\n",
              "------------------------------------------------------------------------------\n",
              "const       1176.1387     18.419     63.855      0.000    1139.770    1212.508\n",
              "INF_Diff     -16.6482      3.569     -4.665      0.000     -23.695      -9.601\n",
              "M_Diff        11.7842      1.720      6.850      0.000       8.387      15.181\n",
              "GDP_diff     -15.3590      3.218     -4.773      0.000     -21.713      -9.005\n",
              "==============================================================================\n",
              "Omnibus:                       25.990   Durbin-Watson:                   0.262\n",
              "Prob(Omnibus):                  0.000   Jarque-Bera (JB):               33.040\n",
              "Skew:                           0.971   Prob(JB):                     6.69e-08\n",
              "Kurtosis:                       3.974   Cond. No.                         22.0\n",
              "==============================================================================\n",
              "\n",
              "Warnings:\n",
              "[1] Standard Errors assume that the covariance matrix of the errors is correctly specified.\n",
              "\"\"\""
            ],
            "text/html": [
              "<table class=\"simpletable\">\n",
              "<caption>OLS Regression Results</caption>\n",
              "<tr>\n",
              "  <th>Dep. Variable:</th>       <td>SKW_USD_FX</td>    <th>  R-squared:         </th> <td>   0.527</td>\n",
              "</tr>\n",
              "<tr>\n",
              "  <th>Model:</th>                   <td>OLS</td>       <th>  Adj. R-squared:    </th> <td>   0.519</td>\n",
              "</tr>\n",
              "<tr>\n",
              "  <th>Method:</th>             <td>Least Squares</td>  <th>  F-statistic:       </th> <td>   60.97</td>\n",
              "</tr>\n",
              "<tr>\n",
              "  <th>Date:</th>             <td>Wed, 13 Jul 2022</td> <th>  Prob (F-statistic):</th> <td>1.56e-26</td>\n",
              "</tr>\n",
              "<tr>\n",
              "  <th>Time:</th>                 <td>10:33:44</td>     <th>  Log-Likelihood:    </th> <td> -1072.6</td>\n",
              "</tr>\n",
              "<tr>\n",
              "  <th>No. Observations:</th>      <td>   168</td>      <th>  AIC:               </th> <td>   2153.</td>\n",
              "</tr>\n",
              "<tr>\n",
              "  <th>Df Residuals:</th>          <td>   164</td>      <th>  BIC:               </th> <td>   2166.</td>\n",
              "</tr>\n",
              "<tr>\n",
              "  <th>Df Model:</th>              <td>     3</td>      <th>                     </th>     <td> </td>   \n",
              "</tr>\n",
              "<tr>\n",
              "  <th>Covariance Type:</th>      <td>nonrobust</td>    <th>                     </th>     <td> </td>   \n",
              "</tr>\n",
              "</table>\n",
              "<table class=\"simpletable\">\n",
              "<tr>\n",
              "      <td></td>        <th>coef</th>     <th>std err</th>      <th>t</th>      <th>P>|t|</th>  <th>[0.025</th>    <th>0.975]</th>  \n",
              "</tr>\n",
              "<tr>\n",
              "  <th>const</th>    <td> 1176.1387</td> <td>   18.419</td> <td>   63.855</td> <td> 0.000</td> <td> 1139.770</td> <td> 1212.508</td>\n",
              "</tr>\n",
              "<tr>\n",
              "  <th>INF_Diff</th> <td>  -16.6482</td> <td>    3.569</td> <td>   -4.665</td> <td> 0.000</td> <td>  -23.695</td> <td>   -9.601</td>\n",
              "</tr>\n",
              "<tr>\n",
              "  <th>M_Diff</th>   <td>   11.7842</td> <td>    1.720</td> <td>    6.850</td> <td> 0.000</td> <td>    8.387</td> <td>   15.181</td>\n",
              "</tr>\n",
              "<tr>\n",
              "  <th>GDP_diff</th> <td>  -15.3590</td> <td>    3.218</td> <td>   -4.773</td> <td> 0.000</td> <td>  -21.713</td> <td>   -9.005</td>\n",
              "</tr>\n",
              "</table>\n",
              "<table class=\"simpletable\">\n",
              "<tr>\n",
              "  <th>Omnibus:</th>       <td>25.990</td> <th>  Durbin-Watson:     </th> <td>   0.262</td>\n",
              "</tr>\n",
              "<tr>\n",
              "  <th>Prob(Omnibus):</th> <td> 0.000</td> <th>  Jarque-Bera (JB):  </th> <td>  33.040</td>\n",
              "</tr>\n",
              "<tr>\n",
              "  <th>Skew:</th>          <td> 0.971</td> <th>  Prob(JB):          </th> <td>6.69e-08</td>\n",
              "</tr>\n",
              "<tr>\n",
              "  <th>Kurtosis:</th>      <td> 3.974</td> <th>  Cond. No.          </th> <td>    22.0</td>\n",
              "</tr>\n",
              "</table><br/><br/>Warnings:<br/>[1] Standard Errors assume that the covariance matrix of the errors is correctly specified."
            ]
          },
          "metadata": {},
          "execution_count": 36
        }
      ]
    }
  ]
}